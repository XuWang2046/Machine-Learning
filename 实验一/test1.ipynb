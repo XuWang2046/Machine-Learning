{
 "cells": [
  {
   "cell_type": "code",
   "execution_count": 1,
   "id": "ad25f281",
   "metadata": {},
   "outputs": [],
   "source": [
    "#数据处理\n",
    "import numpy as np\n",
    "import pandas as pd\n",
    "#数据可视化\n",
    "import matplotlib\n",
    "import matplotlib.pyplot as plt\n",
    "%matplotlib inline\n",
    "import seaborn as sns\n",
    "# 使用r2_score 作为回归模型性能的评价\n",
    "from sklearn.metrics import r2_score\n",
    "#显示中文\n",
    "matplotlib.rcParams['font.sans-serif'] = ['SimHei']\n",
    "matplotlib.rcParams['font.family'] = ['sans-serif']\n",
    "#解决-变成方框问题\n",
    "matplotlib.rcParams['axes.unicode_minus'] = False"
   ]
  },
  {
   "cell_type": "code",
   "execution_count": 3,
   "id": "47f329c3",
   "metadata": {},
   "outputs": [
    {
     "data": {
      "text/html": [
       "<div>\n",
       "<style scoped>\n",
       "    .dataframe tbody tr th:only-of-type {\n",
       "        vertical-align: middle;\n",
       "    }\n",
       "\n",
       "    .dataframe tbody tr th {\n",
       "        vertical-align: top;\n",
       "    }\n",
       "\n",
       "    .dataframe thead th {\n",
       "        text-align: right;\n",
       "    }\n",
       "</style>\n",
       "<table border=\"1\" class=\"dataframe\">\n",
       "  <thead>\n",
       "    <tr style=\"text-align: right;\">\n",
       "      <th></th>\n",
       "      <th>TV</th>\n",
       "      <th>radio</th>\n",
       "      <th>newspaper</th>\n",
       "      <th>sales</th>\n",
       "    </tr>\n",
       "  </thead>\n",
       "  <tbody>\n",
       "    <tr>\n",
       "      <th>0</th>\n",
       "      <td>0.969852</td>\n",
       "      <td>0.981522</td>\n",
       "      <td>1.778945</td>\n",
       "      <td>22.1</td>\n",
       "    </tr>\n",
       "    <tr>\n",
       "      <th>1</th>\n",
       "      <td>-1.197376</td>\n",
       "      <td>1.082808</td>\n",
       "      <td>0.669579</td>\n",
       "      <td>10.4</td>\n",
       "    </tr>\n",
       "    <tr>\n",
       "      <th>2</th>\n",
       "      <td>-1.516155</td>\n",
       "      <td>1.528463</td>\n",
       "      <td>1.783549</td>\n",
       "      <td>9.3</td>\n",
       "    </tr>\n",
       "    <tr>\n",
       "      <th>3</th>\n",
       "      <td>0.052050</td>\n",
       "      <td>1.217855</td>\n",
       "      <td>1.286405</td>\n",
       "      <td>18.5</td>\n",
       "    </tr>\n",
       "    <tr>\n",
       "      <th>4</th>\n",
       "      <td>0.394182</td>\n",
       "      <td>-0.841614</td>\n",
       "      <td>1.281802</td>\n",
       "      <td>12.9</td>\n",
       "    </tr>\n",
       "  </tbody>\n",
       "</table>\n",
       "</div>"
      ],
      "text/plain": [
       "         TV     radio  newspaper  sales\n",
       "0  0.969852  0.981522   1.778945   22.1\n",
       "1 -1.197376  1.082808   0.669579   10.4\n",
       "2 -1.516155  1.528463   1.783549    9.3\n",
       "3  0.052050  1.217855   1.286405   18.5\n",
       "4  0.394182 -0.841614   1.281802   12.9"
      ]
     },
     "execution_count": 3,
     "metadata": {},
     "output_type": "execute_result"
    }
   ],
   "source": [
    "#读取数据\n",
    "dpath = \"./Data/Test1/\"\n",
    "df = pd.read_csv(dpath + \"FE_Advertising.csv\")\n",
    "#通过观察前5 行，了解数据每列（特征）的概况\n",
    "df.head()"
   ]
  },
  {
   "cell_type": "code",
   "execution_count": 4,
   "id": "b7722200",
   "metadata": {},
   "outputs": [
    {
     "name": "stdout",
     "output_type": "stream",
     "text": [
      "<class 'pandas.core.frame.DataFrame'>\n",
      "RangeIndex: 200 entries, 0 to 199\n",
      "Data columns (total 4 columns):\n",
      " #   Column     Non-Null Count  Dtype  \n",
      "---  ------     --------------  -----  \n",
      " 0   TV         200 non-null    float64\n",
      " 1   radio      200 non-null    float64\n",
      " 2   newspaper  200 non-null    float64\n",
      " 3   sales      200 non-null    float64\n",
      "dtypes: float64(4)\n",
      "memory usage: 6.4 KB\n"
     ]
    }
   ],
   "source": [
    "# 数据总体信息\n",
    "df.info()"
   ]
  },
  {
   "cell_type": "code",
   "execution_count": 5,
   "id": "8fbcec2f",
   "metadata": {},
   "outputs": [],
   "source": [
    "# 从原始数据中分离输入特征x 和输出y\n",
    "y = df['sales']\n",
    "X = df.drop('sales', axis = 1)\n",
    "#特征名称，用于后续显示权重系数对应的特征\n",
    "feat_names = X.columns"
   ]
  },
  {
   "cell_type": "code",
   "execution_count": 6,
   "id": "f44c5bc2",
   "metadata": {},
   "outputs": [],
   "source": [
    "#将数据分割训练数据与测试数据\n",
    "from sklearn.model_selection import train_test_split\n",
    "# 随机采样20%的数据构建测试样本，其余作为训练样本\n",
    "X_train, X_test, y_train, y_test = train_test_split(X, y, random_state=33, test_size=0.2)\n",
    "#X_train.shape"
   ]
  },
  {
   "cell_type": "code",
   "execution_count": 7,
   "id": "7ae2463e",
   "metadata": {},
   "outputs": [
    {
     "name": "stdout",
     "output_type": "stream",
     "text": [
      "The r2 score of LinearRegression on test is 0.893729\n",
      "The r2 score of LinearRegression on train is 0.896285\n"
     ]
    },
    {
     "data": {
      "text/html": [
       "<div>\n",
       "<style scoped>\n",
       "    .dataframe tbody tr th:only-of-type {\n",
       "        vertical-align: middle;\n",
       "    }\n",
       "\n",
       "    .dataframe tbody tr th {\n",
       "        vertical-align: top;\n",
       "    }\n",
       "\n",
       "    .dataframe thead th {\n",
       "        text-align: right;\n",
       "    }\n",
       "</style>\n",
       "<table border=\"1\" class=\"dataframe\">\n",
       "  <thead>\n",
       "    <tr style=\"text-align: right;\">\n",
       "      <th></th>\n",
       "      <th>columns</th>\n",
       "      <th>coef</th>\n",
       "    </tr>\n",
       "  </thead>\n",
       "  <tbody>\n",
       "    <tr>\n",
       "      <th>0</th>\n",
       "      <td>TV</td>\n",
       "      <td>3.983944</td>\n",
       "    </tr>\n",
       "    <tr>\n",
       "      <th>1</th>\n",
       "      <td>radio</td>\n",
       "      <td>2.860230</td>\n",
       "    </tr>\n",
       "    <tr>\n",
       "      <th>2</th>\n",
       "      <td>newspaper</td>\n",
       "      <td>0.038194</td>\n",
       "    </tr>\n",
       "    <tr>\n",
       "      <th>3</th>\n",
       "      <td>intercept</td>\n",
       "      <td>13.969091</td>\n",
       "    </tr>\n",
       "  </tbody>\n",
       "</table>\n",
       "</div>"
      ],
      "text/plain": [
       "     columns       coef\n",
       "0         TV   3.983944\n",
       "1      radio   2.860230\n",
       "2  newspaper   0.038194\n",
       "3  intercept  13.969091"
      ]
     },
     "execution_count": 7,
     "metadata": {},
     "output_type": "execute_result"
    }
   ],
   "source": [
    "# 1、最小二乘线性回归\n",
    "from sklearn.linear_model import LinearRegression\n",
    "# 1.使用默认配置初始化学习器实例\n",
    "lr = LinearRegression()\n",
    "# 2.用训练数据训练模型参数\n",
    "lr.fit(X_train, y_train)\n",
    "# 3. 用训练好的模型对测试集进行预测\n",
    "y_test_pred_lr = lr.predict(X_test)\n",
    "y_train_pred_lr = lr.predict(X_train)\n",
    "#性能评估，R 方分数\n",
    "print(\"The r2 score of LinearRegression on test is %f\" %(r2_score(y_test, y_test_pred_lr)))\n",
    "print(\"The r2 score of LinearRegression on train is %f\" %(r2_score(y_train, y_train_pred_lr)))\n",
    "# 看看各特征的权重系数，系数的绝对值大小可视为该特征的重要性\n",
    "fs = pd.DataFrame({\"columns\":list(feat_names), \"coef\":list((lr.coef_.T))})\n",
    "#lr.coef_.T 权重 lr.intercept_ 截距\n",
    "#fs.sort_values(by=['coef'],ascending=False)\n",
    "fs = fs.append([{'columns':'intercept','coef':lr.intercept_}], ignore_index=True)\n",
    "fs"
   ]
  },
  {
   "cell_type": "code",
   "execution_count": 8,
   "id": "a696e05f",
   "metadata": {},
   "outputs": [
    {
     "name": "stderr",
     "output_type": "stream",
     "text": [
      "C:\\ProgramData\\Anaconda3\\lib\\site-packages\\seaborn\\distributions.py:2557: FutureWarning: `distplot` is a deprecated function and will be removed in a future version. Please adapt your code to use either `displot` (a figure-level function with similar flexibility) or `histplot` (an axes-level function for histograms).\n",
      "  warnings.warn(msg, FutureWarning)\n"
     ]
    },
    {
     "data": {
      "text/plain": [
       "Text(0.5, 0, '残差')"
      ]
     },
     "execution_count": 8,
     "metadata": {},
     "output_type": "execute_result"
    },
    {
     "data": {
      "image/png": "[encoded data removed]",
      "text/plain": [
       "<Figure size 432x288 with 1 Axes>"
      ]
     },
     "metadata": {
      "needs_background": "light"
     },
     "output_type": "display_data"
    }
   ],
   "source": [
    "#在训练集上观察预测残差的分布，看是否符合模型假设：噪声为0 均值的高斯噪声\n",
    "figsize = 11,9 # 设置输出的图片大小\n",
    "res = y_train_pred_lr - y_train\n",
    "sns.distplot(res, bins=40, kde = False)\n",
    "plt.xlabel(u'残差', fontsize = 16)"
   ]
  },
  {
   "cell_type": "code",
   "execution_count": 9,
   "id": "e8d6ce2b",
   "metadata": {},
   "outputs": [
    {
     "data": {
      "text/plain": [
       "Text(0, 0.5, '残差')"
      ]
     },
     "execution_count": 9,
     "metadata": {},
     "output_type": "execute_result"
    },
    {
     "data": {
      "image/png": "[encoded data removed]",
      "text/plain": [
       "<Figure size 432x288 with 1 Axes>"
      ]
     },
     "metadata": {
      "needs_background": "light"
     },
     "output_type": "display_data"
    }
   ],
   "source": [
    "figsize = 11,9\n",
    "plt.scatter(y_train, res)\n",
    "plt.xlabel(u'真实值', fontsize = 16)\n",
    "plt.ylabel(u'残差', fontsize = 16)"
   ]
  },
  {
   "cell_type": "code",
   "execution_count": 10,
   "id": "e4f057ad",
   "metadata": {},
   "outputs": [
    {
     "name": "stdout",
     "output_type": "stream",
     "text": [
      "The r2 score of Ridge on test is 0.893865\n",
      "The r2 score of Ridge on train is 0.896285\n"
     ]
    },
    {
     "data": {
      "image/png": "[encoded data removed]",
      "text/plain": [
       "<Figure size 432x288 with 1 Axes>"
      ]
     },
     "metadata": {
      "needs_background": "light"
     },
     "output_type": "display_data"
    },
    {
     "name": "stdout",
     "output_type": "stream",
     "text": [
      "alpha is: 0.1\n"
     ]
    }
   ],
   "source": [
    "#2、岭回归\n",
    "from sklearn.linear_model import RidgeCV\n",
    "#1. 设置超参数（正则参数）范围\n",
    "alphas = [ 0.01, 0.1, 1, 10, 100]\n",
    "#2. 生成一个RidgeCV 实例\n",
    "ridge = RidgeCV(alphas=alphas, store_cv_values=True)\n",
    "#3. 模型训练\n",
    "ridge.fit(X_train, y_train)\n",
    "#4. 预测\n",
    "y_test_pred_ridge = ridge.predict(X_test)\n",
    "y_train_pred_ridge = ridge.predict(X_train)\n",
    "#模型性能评估\n",
    "print(\"The r2 score of Ridge on test is %f\" %(r2_score(y_test, y_test_pred_ridge)))\n",
    "print(\"The r2 score of Ridge on train is %f\" %(r2_score(y_train, y_train_pred_ridge)))\n",
    "# 看看各特征的权重系数，系数的绝对值大小可视为该特征的重要性\n",
    "fs = pd.DataFrame({\"columns\":list(feat_names), \"coef\":list((ridge.coef_.T))})\n",
    "#fs.sort_values(by=['coef'],ascending=False)\n",
    "fs = fs.append([{'columns':'intercept','coef':ridge.intercept_}], ignore_index=True)\n",
    "fs\n",
    "\n",
    "mse_mean = np.mean(ridge.cv_values_, axis = 0)\n",
    "plt.plot(np.log10(alphas), mse_mean.reshape(len(alphas),1))\n",
    "#最佳超参数\n",
    "plt.axvline(np.log10(ridge.alpha_), color='r', ls='--')\n",
    "plt.xlabel('log(alpha)', fontsize = 16)\n",
    "plt.ylabel('MSE', fontsize = 16)\n",
    "plt.show()\n",
    "print ('alpha is:', ridge.alpha_)\n"
   ]
  },
  {
   "cell_type": "code",
   "execution_count": 11,
   "id": "15a86da6",
   "metadata": {},
   "outputs": [
    {
     "name": "stdout",
     "output_type": "stream",
     "text": [
      "The r2 score of lasso on test is 0.896497\n",
      "The r2 score of lasso on train is 0.896201\n"
     ]
    },
    {
     "data": {
      "text/html": [
       "<div>\n",
       "<style scoped>\n",
       "    .dataframe tbody tr th:only-of-type {\n",
       "        vertical-align: middle;\n",
       "    }\n",
       "\n",
       "    .dataframe tbody tr th {\n",
       "        vertical-align: top;\n",
       "    }\n",
       "\n",
       "    .dataframe thead th {\n",
       "        text-align: right;\n",
       "    }\n",
       "</style>\n",
       "<table border=\"1\" class=\"dataframe\">\n",
       "  <thead>\n",
       "    <tr style=\"text-align: right;\">\n",
       "      <th></th>\n",
       "      <th>columns</th>\n",
       "      <th>coef_lr</th>\n",
       "      <th>coef_ridge</th>\n",
       "      <th>coef_lasso</th>\n",
       "    </tr>\n",
       "  </thead>\n",
       "  <tbody>\n",
       "    <tr>\n",
       "      <th>0</th>\n",
       "      <td>TV</td>\n",
       "      <td>3.983944</td>\n",
       "      <td>3.981524</td>\n",
       "      <td>3.955278</td>\n",
       "    </tr>\n",
       "    <tr>\n",
       "      <th>1</th>\n",
       "      <td>radio</td>\n",
       "      <td>2.860230</td>\n",
       "      <td>2.858304</td>\n",
       "      <td>2.836651</td>\n",
       "    </tr>\n",
       "    <tr>\n",
       "      <th>2</th>\n",
       "      <td>newspaper</td>\n",
       "      <td>0.038194</td>\n",
       "      <td>0.038925</td>\n",
       "      <td>0.015882</td>\n",
       "    </tr>\n",
       "    <tr>\n",
       "      <th>3</th>\n",
       "      <td>intercept</td>\n",
       "      <td>13.969091</td>\n",
       "      <td>13.969282</td>\n",
       "      <td>13.970449</td>\n",
       "    </tr>\n",
       "  </tbody>\n",
       "</table>\n",
       "</div>"
      ],
      "text/plain": [
       "     columns    coef_lr  coef_ridge  coef_lasso\n",
       "0         TV   3.983944    3.981524    3.955278\n",
       "1      radio   2.860230    2.858304    2.836651\n",
       "2  newspaper   0.038194    0.038925    0.015882\n",
       "3  intercept  13.969091   13.969282   13.970449"
      ]
     },
     "execution_count": 11,
     "metadata": {},
     "output_type": "execute_result"
    }
   ],
   "source": [
    "#3、Lasso回归\n",
    "from sklearn.linear_model import LassoCV\n",
    "#1. 设置超参数搜索范围\n",
    "#Lasso 可以自动确定最大的alpha，所以另一种设置alpha 的方式是设置最小的alpha 值（eps） 和 超参数的数目（n_alphas），\n",
    "#然后LassoCV 对最小值和最大值之间在log 域上均匀取值n_alphas 个\n",
    "# np.logspace(np.log10(alpha_max * eps), np.log10(alpha_max),num=n_alphas)[::-1]\n",
    "#2 生成LassoCV 实例（默认超参数搜索范围）\n",
    "lasso = LassoCV()\n",
    "#3. 训练（内含CV）\n",
    "lasso.fit(X_train, y_train)\n",
    "#4. 测试\n",
    "y_test_pred_lasso = lasso.predict(X_test)\n",
    "y_train_pred_lasso = lasso.predict(X_train)\n",
    "# 评估，使用r2_score 评价模型在测试集和训练集上的性能\n",
    "print(\"The r2 score of lasso on test is %f\" %(r2_score(y_test, y_test_pred_lasso)))\n",
    "print(\"The r2 score of lasso on train is %f\" %(r2_score(y_train, y_train_pred_lasso)))\n",
    "# 看看各特征的权重系数，系数的绝对值大小可视为该特征的重要性\n",
    "fs = pd.DataFrame({\"columns\":list(feat_names), \"coef_lr\":list((lr.coef_.T)), \"coef_ridge\":list((ridge.coef_.T)), \"coef_lasso\":list((lasso.coef_.T))})\n",
    "#fs.sort_values(by=['coef_lr'],ascending=False)\n",
    "fs = fs.append([{'columns':'intercept','coef_lr':lr.intercept_, 'coef_ridge':ridge.intercept_, 'coef_lasso':lasso.intercept_}], ignore_index=True)\n",
    "fs"
   ]
  },
  {
   "cell_type": "code",
   "execution_count": 12,
   "id": "bdbc7e89",
   "metadata": {},
   "outputs": [
    {
     "data": {
      "image/png": "[encoded data removed]",
      "text/plain": [
       "<Figure size 432x288 with 1 Axes>"
      ]
     },
     "metadata": {
      "needs_background": "light"
     },
     "output_type": "display_data"
    },
    {
     "name": "stdout",
     "output_type": "stream",
     "text": [
      "alpha is: 0.031532988198277837\n"
     ]
    }
   ],
   "source": [
    "mses = np.mean(lasso.mse_path_, axis = 1)\n",
    "plt.plot(np.log10(lasso.alphas_), mses)\n",
    "#最佳超参数\n",
    "plt.axvline(np.log10(lasso.alpha_), color='r', ls='--')\n",
    "plt.xlabel('log(alpha)', fontsize = 16)\n",
    "plt.ylabel('MSE', fontsize = 16)\n",
    "plt.show()\n",
    "print ('alpha is:', lasso.alpha_)"
   ]
  },
  {
   "cell_type": "code",
   "execution_count": 13,
   "id": "8bb173d6",
   "metadata": {},
   "outputs": [
    {
     "name": "stdout",
     "output_type": "stream",
     "text": [
      "The r2 score of elastic_net on test is 0.896497\n",
      "The r2 score of elastic_net on train is 0.896201\n"
     ]
    },
    {
     "data": {
      "text/html": [
       "<div>\n",
       "<style scoped>\n",
       "    .dataframe tbody tr th:only-of-type {\n",
       "        vertical-align: middle;\n",
       "    }\n",
       "\n",
       "    .dataframe tbody tr th {\n",
       "        vertical-align: top;\n",
       "    }\n",
       "\n",
       "    .dataframe thead th {\n",
       "        text-align: right;\n",
       "    }\n",
       "</style>\n",
       "<table border=\"1\" class=\"dataframe\">\n",
       "  <thead>\n",
       "    <tr style=\"text-align: right;\">\n",
       "      <th></th>\n",
       "      <th>columns</th>\n",
       "      <th>coef_lr</th>\n",
       "      <th>coef_ridge</th>\n",
       "      <th>coef_lasso</th>\n",
       "      <th>coef_elastic_net</th>\n",
       "    </tr>\n",
       "  </thead>\n",
       "  <tbody>\n",
       "    <tr>\n",
       "      <th>0</th>\n",
       "      <td>TV</td>\n",
       "      <td>3.983944</td>\n",
       "      <td>3.981524</td>\n",
       "      <td>3.955278</td>\n",
       "      <td>3.955278</td>\n",
       "    </tr>\n",
       "    <tr>\n",
       "      <th>1</th>\n",
       "      <td>radio</td>\n",
       "      <td>2.860230</td>\n",
       "      <td>2.858304</td>\n",
       "      <td>2.836651</td>\n",
       "      <td>2.836651</td>\n",
       "    </tr>\n",
       "    <tr>\n",
       "      <th>2</th>\n",
       "      <td>newspaper</td>\n",
       "      <td>0.038194</td>\n",
       "      <td>0.038925</td>\n",
       "      <td>0.015882</td>\n",
       "      <td>0.015882</td>\n",
       "    </tr>\n",
       "    <tr>\n",
       "      <th>3</th>\n",
       "      <td>intercept</td>\n",
       "      <td>13.969091</td>\n",
       "      <td>13.969282</td>\n",
       "      <td>13.970449</td>\n",
       "      <td>13.970449</td>\n",
       "    </tr>\n",
       "  </tbody>\n",
       "</table>\n",
       "</div>"
      ],
      "text/plain": [
       "     columns    coef_lr  coef_ridge  coef_lasso  coef_elastic_net\n",
       "0         TV   3.983944    3.981524    3.955278          3.955278\n",
       "1      radio   2.860230    2.858304    2.836651          2.836651\n",
       "2  newspaper   0.038194    0.038925    0.015882          0.015882\n",
       "3  intercept  13.969091   13.969282   13.970449         13.970449"
      ]
     },
     "execution_count": 13,
     "metadata": {},
     "output_type": "execute_result"
    }
   ],
   "source": [
    "#4、弹性网络回归\n",
    "from sklearn.linear_model import ElasticNetCV\n",
    "#1. 设置超参数搜索范围\n",
    "#Lasso 可以自动确定最大的alpha，所以另一种设置alpha 的方式是设置最小的alpha 值（eps） 和 超参数的数目（n_alphas），\n",
    "#然后LassoCV 对最小值和最大值之间在log 域上均匀取值n_alphas 个\n",
    "# np.logspace(np.log10(alpha_max * eps), np.log10(alpha_max),num=n_alphas)[::-1]\n",
    "l1_ratio = [0.01, 0.1, .5, .7, .9, .95, .99, 1]\n",
    "#2 ElasticNetCV（设置超参数搜索范围）\n",
    "elastic_net = ElasticNetCV(l1_ratio = l1_ratio )\n",
    "#3. 训练（内含CV）\n",
    "elastic_net.fit(X_train, y_train)\n",
    "#4. 测试\n",
    "y_test_pred_elastic_net = elastic_net.predict(X_test)\n",
    "y_train_pred_elastic_net = elastic_net.predict(X_train)\n",
    "# 评估，使用r2_score 评价模型在测试集和训练集上的性能\n",
    "print(\"The r2 score of elastic_net on test is %f\" %(r2_score(y_test, y_test_pred_elastic_net)))\n",
    "print(\"The r2 score of elastic_net on train is %f\" %(r2_score(y_train, y_train_pred_elastic_net)))\n",
    "# 看看各特征的权重系数，系数的绝对值大小可视为该特征的重要性\n",
    "fs = pd.DataFrame({\"columns\":list(feat_names), \"coef_lr\":list((lr.coef_.T)), \"coef_ridge\":list((ridge.coef_.T)), \"coef_lasso\":list((lasso.coef_.T)), 'coef_elastic_net':list((elastic_net.coef_.T))})\n",
    "#fs.sort_values(by=['coef_lr'],ascending=False)\n",
    "fs = fs.append([{'columns':'intercept','coef_lr':lr.intercept_, 'coef_ridge':ridge.intercept_, 'coef_lasso':lasso.intercept_, 'coef_elastic_net':elastic_net.intercept_}], ignore_index=True)\n",
    "fs"
   ]
  },
  {
   "cell_type": "code",
   "execution_count": 14,
   "id": "ff9a5067",
   "metadata": {},
   "outputs": [
    {
     "data": {
      "image/png": "[encoded data removed]",
      "text/plain": [
       "<Figure size 432x288 with 1 Axes>"
      ]
     },
     "metadata": {
      "needs_background": "light"
     },
     "output_type": "display_data"
    },
    {
     "name": "stdout",
     "output_type": "stream",
     "text": [
      "alpha is: 0.031532988198277837\n",
      "l1_ratio is: 1.0\n"
     ]
    }
   ],
   "source": [
    "mses = np.mean(elastic_net.mse_path_, axis = 2)\n",
    "# plot results\n",
    "n_l1_ratio = len(l1_ratio)\n",
    "n_alpha = elastic_net.alphas_.shape[1]\n",
    "for i, l1 in enumerate(l1_ratio):\n",
    "    plt.plot(np.log10(elastic_net.alphas_[i]), mses[i], label= u'l1 正则比例:'+str(l1))\n",
    "#最佳超参数\n",
    "plt.axvline(np.log10(elastic_net.alpha_), color='r', ls='--')\n",
    "plt.xlabel('log(alpha)', fontsize = 16)\n",
    "plt.ylabel('MSE', fontsize = 16)\n",
    "plt.legend(fontsize = 12)\n",
    "plt.show()\n",
    "print ('alpha is:', elastic_net.alpha_)\n",
    "print ('l1_ratio is:', elastic_net.l1_ratio_)"
   ]
  },
  {
   "cell_type": "code",
   "execution_count": 15,
   "id": "46ec6265",
   "metadata": {},
   "outputs": [
    {
     "name": "stderr",
     "output_type": "stream",
     "text": [
      "No handles with labels found to put in legend.\n"
     ]
    },
    {
     "data": {
      "image/png": "[encoded data removed]",
      "text/plain": [
       "<Figure size 432x288 with 1 Axes>"
      ]
     },
     "metadata": {
      "needs_background": "light"
     },
     "output_type": "display_data"
    },
    {
     "name": "stdout",
     "output_type": "stream",
     "text": [
      "alpha is: 0.031532988198277837\n",
      "l1_ratio is: 1.0\n"
     ]
    }
   ],
   "source": [
    "#最佳超参数\n",
    "plt.axvline(np.log10(elastic_net.alpha_), color='r', ls='--')\n",
    "plt.xlabel('log(alpha)', fontsize = 16)\n",
    "plt.ylabel('MSE', fontsize = 16)\n",
    "plt.legend(fontsize = 12)\n",
    "plt.show()\n",
    "print ('alpha is:', elastic_net.alpha_)\n",
    "print ('l1_ratio is:', elastic_net.l1_ratio_)"
   ]
  },
  {
   "cell_type": "code",
   "execution_count": 16,
   "id": "fc016af0",
   "metadata": {},
   "outputs": [
    {
     "data": {
      "text/html": [
       "<div>\n",
       "<style scoped>\n",
       "    .dataframe tbody tr th:only-of-type {\n",
       "        vertical-align: middle;\n",
       "    }\n",
       "\n",
       "    .dataframe tbody tr th {\n",
       "        vertical-align: top;\n",
       "    }\n",
       "\n",
       "    .dataframe thead th {\n",
       "        text-align: right;\n",
       "    }\n",
       "</style>\n",
       "<table border=\"1\" class=\"dataframe\">\n",
       "  <thead>\n",
       "    <tr style=\"text-align: right;\">\n",
       "      <th></th>\n",
       "      <th>columns</th>\n",
       "      <th>coef</th>\n",
       "    </tr>\n",
       "  </thead>\n",
       "  <tbody>\n",
       "    <tr>\n",
       "      <th>0</th>\n",
       "      <td>TV</td>\n",
       "      <td>3.840762</td>\n",
       "    </tr>\n",
       "    <tr>\n",
       "      <th>1</th>\n",
       "      <td>radio</td>\n",
       "      <td>2.931079</td>\n",
       "    </tr>\n",
       "    <tr>\n",
       "      <th>2</th>\n",
       "      <td>newspaper</td>\n",
       "      <td>-0.023874</td>\n",
       "    </tr>\n",
       "    <tr>\n",
       "      <th>3</th>\n",
       "      <td>intercept</td>\n",
       "      <td>14.237015</td>\n",
       "    </tr>\n",
       "  </tbody>\n",
       "</table>\n",
       "</div>"
      ],
      "text/plain": [
       "     columns       coef\n",
       "0         TV   3.840762\n",
       "1      radio   2.931079\n",
       "2  newspaper  -0.023874\n",
       "3  intercept  14.237015"
      ]
     },
     "execution_count": 16,
     "metadata": {},
     "output_type": "execute_result"
    }
   ],
   "source": [
    "# 5、Huber 回归\n",
    "from sklearn.linear_model import HuberRegressor\n",
    "# 1.使用默认配置初始化学习器实例\n",
    "hr = HuberRegressor()\n",
    "# 2.用训练数据训练模型参数\n",
    "hr.fit(X_train, y_train)\n",
    "# 3. 用训练好的模型对测试集进行预测\n",
    "y_test_pred_hr = hr.predict(X_test)\n",
    "y_train_pred_hr = hr.predict(X_train)\n",
    "# 看看各特征的权重系数，系数的绝对值大小可视为该特征的重要性\n",
    "fs = pd.DataFrame({\"columns\":list(feat_names), \"coef\":list((hr.coef_.T))})\n",
    "#fs.sort_values(by=['coef'],ascending=False)\n",
    "fs = fs.append([{'columns':'intercept','coef':hr.intercept_}], ignore_index=True)\n",
    "fs"
   ]
  },
  {
   "cell_type": "code",
   "execution_count": 17,
   "id": "894f47ce",
   "metadata": {},
   "outputs": [
    {
     "name": "stderr",
     "output_type": "stream",
     "text": [
      "C:\\ProgramData\\Anaconda3\\lib\\site-packages\\seaborn\\distributions.py:2557: FutureWarning: `distplot` is a deprecated function and will be removed in a future version. Please adapt your code to use either `displot` (a figure-level function with similar flexibility) or `histplot` (an axes-level function for histograms).\n",
      "  warnings.warn(msg, FutureWarning)\n"
     ]
    },
    {
     "data": {
      "text/plain": [
       "Text(0.5, 1.0, '残差直方图')"
      ]
     },
     "execution_count": 17,
     "metadata": {},
     "output_type": "execute_result"
    },
    {
     "data": {
      "image/png": "[encoded data removed]",
      "text/plain": [
       "<Figure size 432x288 with 1 Axes>"
      ]
     },
     "metadata": {
      "needs_background": "light"
     },
     "output_type": "display_data"
    }
   ],
   "source": [
    "#在训练集上观察预测残差的分布，看是否符合模型假设：噪声为0 均值的高斯噪声\n",
    "figsize = 11,9\n",
    "res = y_train_pred_hr - y_train\n",
    "sns.distplot(res, bins=40, kde = False)\n",
    "plt.xlabel(u'残差')\n",
    "plt.title(u'残差直方图')"
   ]
  },
  {
   "cell_type": "code",
   "execution_count": 18,
   "id": "cd9ab885",
   "metadata": {},
   "outputs": [
    {
     "data": {
      "text/plain": [
       "Text(0, 0.5, '残差')"
      ]
     },
     "execution_count": 18,
     "metadata": {},
     "output_type": "execute_result"
    },
    {
     "data": {
      "image/png": "[encoded data removed]",
      "text/plain": [
       "<Figure size 432x288 with 1 Axes>"
      ]
     },
     "metadata": {
      "needs_background": "light"
     },
     "output_type": "display_data"
    }
   ],
   "source": [
    "figsize = 11,9\n",
    "res = y_train - y_train_pred_hr\n",
    "plt.scatter(y_train_pred_hr, res)\n",
    "plt.xlabel(u'预测值')\n",
    "plt.ylabel(u'残差')"
   ]
  },
  {
   "cell_type": "code",
   "execution_count": null,
   "id": "e4ac33ef",
   "metadata": {},
   "outputs": [],
   "source": []
  },
  {
   "cell_type": "code",
   "execution_count": null,
   "id": "ebc1753f",
   "metadata": {},
   "outputs": [],
   "source": []
  }
 ],
 "metadata": {
  "kernelspec": {
   "display_name": "Python 3",
   "language": "python",
   "name": "python3"
  },
  "language_info": {
   "codemirror_mode": {
    "name": "ipython",
    "version": 3
   },
   "file_extension": ".py",
   "mimetype": "text/x-python",
   "name": "python",
   "nbconvert_exporter": "python",
   "pygments_lexer": "ipython3",
   "version": "3.8.8"
  }
 },
 "nbformat": 4,
 "nbformat_minor": 5
}
