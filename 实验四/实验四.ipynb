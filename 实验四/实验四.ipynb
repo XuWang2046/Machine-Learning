{
 "cells": [
  {
   "cell_type": "code",
   "execution_count": 1,
   "id": "15094ea4",
   "metadata": {},
   "outputs": [],
   "source": [
    "#import sys\n",
    "#from importlib import reload\n",
    "import matplotlib.pyplot as plt\n",
    "#reload(sys)\n",
    "plt.rcParams['font.sans-serif'] = ['Arial Unicode MS']\n",
    "#sys.setdefaultencoding('utf-8')\n",
    "import pandas as pd\n",
    "import numpy as np\n",
    "from sklearn import metrics\n",
    "import matplotlib.pyplot as plt\n",
    "%matplotlib inline"
   ]
  },
  {
   "cell_type": "code",
   "execution_count": 2,
   "id": "982e50d2",
   "metadata": {},
   "outputs": [
    {
     "name": "stdout",
     "output_type": "stream",
     "text": [
      "19\n"
     ]
    },
    {
     "data": {
      "text/plain": [
       "(2263, 155784)"
      ]
     },
     "execution_count": 2,
     "metadata": {},
     "output_type": "execute_result"
    }
   ],
   "source": [
    "from sklearn.datasets import fetch_20newsgroups\n",
    "twenty_news = fetch_20newsgroups()\n",
    "y = twenty_news.target\n",
    "X = twenty_news.data\n",
    "from sklearn.feature_extraction.text import TfidfVectorizer\n",
    "# 初始化 TFIV 对象，去停用词，加 2 元语言模型\n",
    "tfv = TfidfVectorizer(min_df=3, max_features=None, strip_accents='unicode', analyzer='word',token_pattern=r'\\w{1,}', ngram_range=(1, 2), use_idf=1,smooth_idf=1,sublinear_tf=1, stop_words = 'english')\n",
    "# 提取特征，会有点慢\n",
    "X = tfv.fit_transform(X)\n",
    "#将数据分割训练数据与测试数据\n",
    "from sklearn.model_selection import train_test_split\n",
    "# 随机采样 20%的数据构建测试样本，其余作为训练样本\n",
    "X_train, X_test, y_train, y_test = train_test_split(X, y, random_state=33, test_size=0.2)\n",
    "X_train.shape\n",
    "print(np.max(y_train))\n",
    "X_test.shape"
   ]
  },
  {
   "cell_type": "code",
   "execution_count": 3,
   "id": "668ccb2f",
   "metadata": {},
   "outputs": [],
   "source": [
    "# 多项朴素贝叶斯\n",
    "from sklearn.naive_bayes import MultinomialNB\n",
    "MNB = MultinomialNB()\n",
    "MNB.fit(X_train, y_train) #特征数据直接灌进来\n",
    "#输出每类的概率\n",
    "#y_test_pred = MNB.predict_proba(X_test)\n",
    "y_test_pred = MNB.predict(X_test)"
   ]
  },
  {
   "cell_type": "code",
   "execution_count": 4,
   "id": "4c676fc2",
   "metadata": {},
   "outputs": [
    {
     "name": "stdout",
     "output_type": "stream",
     "text": [
      "                          precision    recall  f1-score   support\n",
      "\n",
      "             alt.atheism       0.91      0.94      0.93        89\n",
      "           comp.graphics       0.75      0.87      0.81        99\n",
      " comp.os.ms-windows.misc       0.91      0.82      0.87       130\n",
      "comp.sys.ibm.pc.hardware       0.73      0.84      0.78       109\n",
      "   comp.sys.mac.hardware       0.98      0.92      0.95       117\n",
      "          comp.windows.x       0.87      0.89      0.88       118\n",
      "            misc.forsale       0.82      0.90      0.86       117\n",
      "               rec.autos       0.91      0.94      0.93       121\n",
      "         rec.motorcycles       0.97      0.92      0.94       119\n",
      "      rec.sport.baseball       0.95      0.94      0.94       113\n",
      "        rec.sport.hockey       0.93      0.97      0.95       129\n",
      "               sci.crypt       0.88      0.99      0.93       109\n",
      "         sci.electronics       0.96      0.79      0.87       120\n",
      "                 sci.med       0.99      0.87      0.93       123\n",
      "               sci.space       0.90      0.97      0.94       119\n",
      "  soc.religion.christian       0.78      0.98      0.87       128\n",
      "      talk.politics.guns       0.88      0.91      0.89       120\n",
      "   talk.politics.mideast       0.97      1.00      0.99       100\n",
      "      talk.politics.misc       0.97      0.84      0.90       106\n",
      "      talk.religion.misc       1.00      0.43      0.60        77\n",
      "\n",
      "                accuracy                           0.89      2263\n",
      "               macro avg       0.90      0.89      0.89      2263\n",
      "            weighted avg       0.90      0.89      0.89      2263\n",
      "\n",
      "0.894387980556783\n"
     ]
    }
   ],
   "source": [
    "print(metrics.classification_report(y_test, y_test_pred, target_names=twenty_news.target_names))\n",
    "#print(metrics.confusion_matrix(y_test, y_test_pred))\n",
    "print(metrics.accuracy_score(y_test, y_test_pred))"
   ]
  },
  {
   "cell_type": "code",
   "execution_count": 5,
   "id": "b33aaf52",
   "metadata": {},
   "outputs": [
    {
     "name": "stdout",
     "output_type": "stream",
     "text": [
      "Fitting 5 folds for each of 10 candidates, totalling 50 fits\n"
     ]
    },
    {
     "data": {
      "text/plain": [
       "GridSearchCV(cv=5, estimator=LogisticRegression(solver='liblinear'), n_jobs=4,\n",
       "             param_grid={'C': [0.1, 1, 10, 100, 1000], 'penalty': ['l1', 'l2']},\n",
       "             scoring='neg_log_loss', verbose=5)"
      ]
     },
     "execution_count": 5,
     "metadata": {},
     "output_type": "execute_result"
    }
   ],
   "source": [
    "# 和逻辑回归比较\n",
    "from sklearn.linear_model import LogisticRegression\n",
    "from sklearn.model_selection import GridSearchCV\n",
    "#设置超参数搜索范围\n",
    "penaltys = ['l1','l2']\n",
    "Cs = [ 0.1, 1, 10, 100, 1000]\n",
    "tuned_parameters = dict(penalty = penaltys, C = Cs)\n",
    "# LR 学习器实例\n",
    "lr_penalty= LogisticRegression(tol=0.0001,solver='liblinear')\n",
    "#GridSearchCV 实例\n",
    "grid= GridSearchCV(lr_penalty, tuned_parameters, cv=5, scoring='neg_log_loss',n_jobs = 4,verbose=5)\n",
    "# 模型训练\n",
    "grid.fit(X_train,y_train)"
   ]
  },
  {
   "cell_type": "code",
   "execution_count": 6,
   "id": "e172a914",
   "metadata": {},
   "outputs": [
    {
     "data": {
      "text/plain": [
       "{'mean_fit_time': array([ 7.39196825,  4.13813906, 12.81704421,  7.14956408, 16.79744592,\n",
       "         9.20578589, 17.49883623, 11.52133584, 18.90248942, 11.52883091]),\n",
       " 'std_fit_time': array([0.47701609, 0.23398088, 1.04536938, 0.22728291, 0.78889929,\n",
       "        0.31959048, 1.24146655, 0.76398376, 0.64861013, 0.94209656]),\n",
       " 'mean_score_time': array([0.02200632, 0.02980437, 0.0176054 , 0.02720714, 0.02580667,\n",
       "        0.02400441, 0.01920624, 0.02340622, 0.01759777, 0.01920452]),\n",
       " 'std_score_time': array([0.00438074, 0.00574123, 0.00135735, 0.00549338, 0.00783669,\n",
       "        0.0085137 , 0.0033108 , 0.00531522, 0.00431342, 0.00676599]),\n",
       " 'param_C': masked_array(data=[0.1, 0.1, 1, 1, 10, 10, 100, 100, 1000, 1000],\n",
       "              mask=[False, False, False, False, False, False, False, False,\n",
       "                    False, False],\n",
       "        fill_value='?',\n",
       "             dtype=object),\n",
       " 'param_penalty': masked_array(data=['l1', 'l2', 'l1', 'l2', 'l1', 'l2', 'l1', 'l2', 'l1',\n",
       "                    'l2'],\n",
       "              mask=[False, False, False, False, False, False, False, False,\n",
       "                    False, False],\n",
       "        fill_value='?',\n",
       "             dtype=object),\n",
       " 'params': [{'C': 0.1, 'penalty': 'l1'},\n",
       "  {'C': 0.1, 'penalty': 'l2'},\n",
       "  {'C': 1, 'penalty': 'l1'},\n",
       "  {'C': 1, 'penalty': 'l2'},\n",
       "  {'C': 10, 'penalty': 'l1'},\n",
       "  {'C': 10, 'penalty': 'l2'},\n",
       "  {'C': 100, 'penalty': 'l1'},\n",
       "  {'C': 100, 'penalty': 'l2'},\n",
       "  {'C': 1000, 'penalty': 'l1'},\n",
       "  {'C': 1000, 'penalty': 'l2'}],\n",
       " 'split0_test_score': array([-2.68464413, -2.59804463, -1.20554516, -1.35249755, -0.49404397,\n",
       "        -0.54840253, -0.45354637, -0.32876172, -0.50802064, -0.30339728]),\n",
       " 'split1_test_score': array([-2.68184852, -2.59383524, -1.20859633, -1.33950593, -0.47833202,\n",
       "        -0.53062987, -0.41640139, -0.297626  , -0.45883863, -0.25860239]),\n",
       " 'split2_test_score': array([-2.68326419, -2.59380639, -1.20772861, -1.34895369, -0.46682724,\n",
       "        -0.54316612, -0.39316634, -0.31159045, -0.43072041, -0.27705888]),\n",
       " 'split3_test_score': array([-2.68692361, -2.59756655, -1.23480395, -1.36139768, -0.49004467,\n",
       "        -0.55607315, -0.44501474, -0.33266075, -0.47414506, -0.30758812]),\n",
       " 'split4_test_score': array([-2.7006154 , -2.6034643 , -1.25301447, -1.37458984, -0.50049238,\n",
       "        -0.55914097, -0.45510682, -0.32609854, -0.52415495, -0.29194738]),\n",
       " 'mean_test_score': array([-2.68745917, -2.59734342, -1.2219377 , -1.35538894, -0.48594806,\n",
       "        -0.54748253, -0.43264713, -0.31934749, -0.47917594, -0.28771881]),\n",
       " 'std_test_score': array([0.00678785, 0.0035447 , 0.01886749, 0.01188968, 0.01197892,\n",
       "        0.01013122, 0.02415297, 0.01298801, 0.03359162, 0.01799936]),\n",
       " 'rank_test_score': array([10,  9,  7,  8,  5,  6,  3,  2,  4,  1])}"
      ]
     },
     "execution_count": 6,
     "metadata": {},
     "output_type": "execute_result"
    }
   ],
   "source": [
    "#输出结果\n",
    "grid.cv_results_"
   ]
  },
  {
   "cell_type": "code",
   "execution_count": 7,
   "id": "b4d8a435",
   "metadata": {},
   "outputs": [
    {
     "data": {
      "text/plain": [
       "LogisticRegression(C=1000, solver='liblinear')"
      ]
     },
     "execution_count": 7,
     "metadata": {},
     "output_type": "execute_result"
    }
   ],
   "source": [
    "grid.best_estimator_"
   ]
  },
  {
   "cell_type": "code",
   "execution_count": 8,
   "id": "b53c7b40",
   "metadata": {},
   "outputs": [
    {
     "name": "stdout",
     "output_type": "stream",
     "text": [
      "Fitting 5 folds for each of 4 candidates, totalling 20 fits\n"
     ]
    },
    {
     "data": {
      "text/plain": [
       "{'mean_fit_time': array([19.52955432, 15.01517234, 22.9392303 , 14.24248667]),\n",
       " 'std_fit_time': array([2.59542371, 0.72952275, 1.23048041, 2.07108293]),\n",
       " 'mean_score_time': array([0.02020464, 0.02343531, 0.02638512, 0.02620716]),\n",
       " 'std_score_time': array([0.00515505, 0.00652827, 0.00478723, 0.00932488]),\n",
       " 'param_C': masked_array(data=[10000, 10000, 100000, 100000],\n",
       "              mask=[False, False, False, False],\n",
       "        fill_value='?',\n",
       "             dtype=object),\n",
       " 'param_penalty': masked_array(data=['l1', 'l2', 'l1', 'l2'],\n",
       "              mask=[False, False, False, False],\n",
       "        fill_value='?',\n",
       "             dtype=object),\n",
       " 'params': [{'C': 10000, 'penalty': 'l1'},\n",
       "  {'C': 10000, 'penalty': 'l2'},\n",
       "  {'C': 100000, 'penalty': 'l1'},\n",
       "  {'C': 100000, 'penalty': 'l2'}],\n",
       " 'split0_test_score': array([-0.42349949, -0.33380673, -0.3953851 , -0.37466618]),\n",
       " 'split1_test_score': array([-0.34068551, -0.27912095, -0.3180441 , -0.30968601]),\n",
       " 'split2_test_score': array([-0.34677532, -0.30215746, -0.34312415, -0.33673667]),\n",
       " 'split3_test_score': array([-0.40022814, -0.34264629, -0.39090289, -0.38818853]),\n",
       " 'split4_test_score': array([-0.41385386, -0.3173014 , -0.39867542, -0.35430679]),\n",
       " 'mean_test_score': array([-0.38500846, -0.31500657, -0.36922633, -0.35271684]),\n",
       " 'std_test_score': array([0.0345588 , 0.02269601, 0.03262621, 0.02774729]),\n",
       " 'rank_test_score': array([4, 1, 3, 2])}"
      ]
     },
     "execution_count": 8,
     "metadata": {},
     "output_type": "execute_result"
    }
   ],
   "source": [
    "#设置超参数搜索范围\n",
    "penaltys = ['l1','l2']\n",
    "Cs = [10000,100000]\n",
    "tuned_parameters = dict(penalty = penaltys, C = Cs)\n",
    "# LR 学习器实例\n",
    "lr_penalty= LogisticRegression(tol=0.0001,solver='liblinear')\n",
    "#GridSearchCV 实例\n",
    "grid= GridSearchCV(lr_penalty, tuned_parameters, cv=5, scoring='neg_log_loss',n_jobs = 4,verbose=5)\n",
    "# 模型训练\n",
    "grid.fit(X_train,y_train)\n",
    "#输出结果\n",
    "grid.cv_results_"
   ]
  },
  {
   "cell_type": "code",
   "execution_count": 9,
   "id": "4961eaa3",
   "metadata": {},
   "outputs": [
    {
     "name": "stdout",
     "output_type": "stream",
     "text": [
      "                          precision    recall  f1-score   support\n",
      "\n",
      "             alt.atheism       0.97      0.94      0.95        89\n",
      "           comp.graphics       0.80      0.84      0.82        99\n",
      " comp.os.ms-windows.misc       0.89      0.91      0.90       130\n",
      "comp.sys.ibm.pc.hardware       0.86      0.80      0.83       109\n",
      "   comp.sys.mac.hardware       0.92      0.93      0.92       117\n",
      "          comp.windows.x       0.92      0.89      0.91       118\n",
      "            misc.forsale       0.87      0.94      0.90       117\n",
      "               rec.autos       0.95      0.94      0.95       121\n",
      "         rec.motorcycles       0.96      0.97      0.97       119\n",
      "      rec.sport.baseball       0.98      0.99      0.99       113\n",
      "        rec.sport.hockey       1.00      0.97      0.98       129\n",
      "               sci.crypt       0.96      0.98      0.97       109\n",
      "         sci.electronics       0.91      0.93      0.92       120\n",
      "                 sci.med       0.99      0.91      0.95       123\n",
      "               sci.space       0.96      0.97      0.97       119\n",
      "  soc.religion.christian       0.93      0.98      0.95       128\n",
      "      talk.politics.guns       0.97      0.96      0.96       120\n",
      "   talk.politics.mideast       1.00      1.00      1.00       100\n",
      "      talk.politics.misc       0.95      0.94      0.95       106\n",
      "      talk.religion.misc       0.94      0.86      0.90        77\n",
      "\n",
      "                accuracy                           0.94      2263\n",
      "               macro avg       0.94      0.93      0.93      2263\n",
      "            weighted avg       0.94      0.94      0.94      2263\n",
      "\n",
      "0.9354838709677419\n"
     ]
    }
   ],
   "source": [
    "y_test_pred = grid.best_estimator_.predict(X_test)\n",
    "print(metrics.classification_report(y_test, y_test_pred, target_names=twenty_news.target_names))\n",
    "print(metrics.accuracy_score(y_test, y_test_pred))"
   ]
  }
 ],
 "metadata": {
  "kernelspec": {
   "display_name": "Python 3",
   "language": "python",
   "name": "python3"
  },
  "language_info": {
   "codemirror_mode": {
    "name": "ipython",
    "version": 3
   },
   "file_extension": ".py",
   "mimetype": "text/x-python",
   "name": "python",
   "nbconvert_exporter": "python",
   "pygments_lexer": "ipython3",
   "version": "3.8.8"
  }
 },
 "nbformat": 4,
 "nbformat_minor": 5
}
