{
 "cells": [
  {
   "cell_type": "code",
   "execution_count": 1,
   "id": "a3f471a8",
   "metadata": {},
   "outputs": [],
   "source": [
    "#导入包和必要的工具\n",
    "import pandas as pd\n",
    "import numpy as np\n",
    "from sklearn.decomposition import PCA\n",
    "from sklearn.discriminant_analysis import LinearDiscriminantAnalysis"
   ]
  },
  {
   "cell_type": "code",
   "execution_count": 2,
   "id": "ffe6cab9",
   "metadata": {},
   "outputs": [],
   "source": [
    "#读取训练集和测试集\n",
    "train = pd.read_csv('./data/MNIST_train.csv')\n",
    "test = pd.read_csv('./data/MNIST_test.csv')\n",
    "y_train = train.label.values\n",
    "y_train_pca = train.label.values\n",
    "x_train = train.drop(\"label\",axis = 1).values\n",
    "x_test = test.values\n",
    "#将像素值[0，255]——>[0,1]\n",
    "x_train = x_train / 255.0\n",
    "x_test = x_test / 255.0"
   ]
  },
  {
   "cell_type": "code",
   "execution_count": 3,
   "id": "ba0b4b43",
   "metadata": {},
   "outputs": [
    {
     "name": "stdout",
     "output_type": "stream",
     "text": [
      "the shape of train_image:(42000, 784)\n",
      "the shape of test_image:(28000, 784)\n"
     ]
    },
    {
     "data": {
      "text/plain": [
       "PCA(n_components=0.95, svd_solver='full')"
      ]
     },
     "execution_count": 3,
     "metadata": {},
     "output_type": "execute_result"
    }
   ],
   "source": [
    "#原始输入的特征维数和样本数目\n",
    "print('the shape of train_image:{}'.format(x_train.shape))\n",
    "print('the shape of test_image:{}'.format(x_test.shape))\n",
    "#PCA降维\n",
    "pca = PCA(n_components = 0.95,svd_solver = 'full')\n",
    "pca.fit(x_train)"
   ]
  },
  {
   "cell_type": "code",
   "execution_count": 4,
   "id": "b519b1c8",
   "metadata": {},
   "outputs": [
    {
     "data": {
      "text/plain": [
       "(42000, 154)"
      ]
     },
     "execution_count": 4,
     "metadata": {},
     "output_type": "execute_result"
    }
   ],
   "source": [
    "#在训练集和测试集上降维\n",
    "x_train_pca = pca.transform(x_train)\n",
    "x_test_pca = pca.transform(x_test)\n",
    "x_train_pca.shape"
   ]
  },
  {
   "cell_type": "code",
   "execution_count": 5,
   "id": "f4e4200a",
   "metadata": {},
   "outputs": [
    {
     "data": {
      "text/plain": [
       "array([2, 0, 9, ..., 3, 9, 2], dtype=int64)"
      ]
     },
     "execution_count": 5,
     "metadata": {},
     "output_type": "execute_result"
    }
   ],
   "source": [
    "#LAD分类器(降维前的数据)\n",
    "lda = LinearDiscriminantAnalysis()\n",
    "lda.fit(x_train,y_train)\n",
    "lda.predict(x_test)\n"
   ]
  },
  {
   "cell_type": "code",
   "execution_count": 6,
   "id": "dbd79f3f",
   "metadata": {},
   "outputs": [
    {
     "data": {
      "text/plain": [
       "array([2, 0, 9, ..., 3, 9, 2], dtype=int64)"
      ]
     },
     "execution_count": 6,
     "metadata": {},
     "output_type": "execute_result"
    }
   ],
   "source": [
    "#LAD分类器(降维后的数据)\n",
    "lda2 = LinearDiscriminantAnalysis()\n",
    "lda2.fit(x_train_pca,y_train_pca)\n",
    "lda2.predict(x_test_pca)"
   ]
  },
  {
   "cell_type": "code",
   "execution_count": 7,
   "id": "95553997",
   "metadata": {},
   "outputs": [],
   "source": [
    "#用降维前的全体训练数据集上的训练的模型对测试集进行测试\n",
    "y_predict = lda.predict(x_test)"
   ]
  },
  {
   "cell_type": "code",
   "execution_count": 8,
   "id": "71c8f7f4",
   "metadata": {},
   "outputs": [],
   "source": [
    "#用降维后的全体训练数据集上的训练的模型对测试集进行测试\n",
    "y_predict2 = lda2.predict(x_test_pca)"
   ]
  },
  {
   "cell_type": "code",
   "execution_count": 9,
   "id": "e988a58b",
   "metadata": {},
   "outputs": [],
   "source": [
    "#生成提交测试结果(未降维)\n",
    "df = pd.DataFrame(y_predict)\n",
    "df.columns = ['Lable']\n",
    "df.index += 1\n",
    "df.index.name = 'imageid'\n",
    "df.to_csv('SVC_Minist_submission.csv',header = True)\n",
    "#生成提交测试结果(降维)\n",
    "df = pd.DataFrame(y_predict2)\n",
    "df.columns = ['Lable']\n",
    "df.index += 1\n",
    "df.index.name = 'imageid'\n",
    "df.to_csv('SVC_Minist_submission_pca.csv',header = True)"
   ]
  },
  {
   "cell_type": "code",
   "execution_count": 10,
   "id": "bd49df76",
   "metadata": {},
   "outputs": [
    {
     "name": "stdout",
     "output_type": "stream",
     "text": [
      "accuracy of each fold is : [0.86404762 0.86559524 0.86369048 0.86083333 0.8677381 ]\n",
      "cv accuracy is : 0.8643809523809525\n"
     ]
    },
    {
     "data": {
      "text/plain": [
       "0.8643809523809525"
      ]
     },
     "execution_count": 10,
     "metadata": {},
     "output_type": "execute_result"
    }
   ],
   "source": [
    "#交叉验证(未降维)\n",
    "from sklearn.model_selection import cross_val_score\n",
    "loss = cross_val_score(lda,x_train,y_train,cv = 5)\n",
    "print('accuracy of each fold is :',loss)\n",
    "print('cv accuracy is :',loss.mean())\n",
    "loss.mean()"
   ]
  },
  {
   "cell_type": "code",
   "execution_count": 11,
   "id": "6684472d",
   "metadata": {},
   "outputs": [
    {
     "name": "stdout",
     "output_type": "stream",
     "text": [
      "accuracy of each fold is : [0.87071429 0.86869048 0.8652381  0.86547619 0.8727381 ]\n",
      "cv accuracy is : 0.8685714285714287\n"
     ]
    },
    {
     "data": {
      "text/plain": [
       "0.8685714285714287"
      ]
     },
     "execution_count": 11,
     "metadata": {},
     "output_type": "execute_result"
    }
   ],
   "source": [
    "#交叉验证(降维)\n",
    "from sklearn.model_selection import cross_val_score\n",
    "loss = cross_val_score(lda2,x_train_pca,y_train_pca,cv = 5)\n",
    "print('accuracy of each fold is :',loss)\n",
    "print('cv accuracy is :',loss.mean())\n",
    "loss.mean()"
   ]
  }
 ],
 "metadata": {
  "kernelspec": {
   "display_name": "Python 3",
   "language": "python",
   "name": "python3"
  },
  "language_info": {
   "codemirror_mode": {
    "name": "ipython",
    "version": 3
   },
   "file_extension": ".py",
   "mimetype": "text/x-python",
   "name": "python",
   "nbconvert_exporter": "python",
   "pygments_lexer": "ipython3",
   "version": "3.8.8"
  }
 },
 "nbformat": 4,
 "nbformat_minor": 5
}
